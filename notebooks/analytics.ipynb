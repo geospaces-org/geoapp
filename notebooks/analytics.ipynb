{
 "cells": [
  {
   "cell_type": "code",
   "execution_count": null,
   "metadata": {},
   "outputs": [],
   "source": [
    "import logging, warnings, sys\n",
    "for handler in logging.root.handlers[:]:\n",
    "    logging.root.removeHandler(handler)\n",
    "    \n",
    "logging.basicConfig( level=logging.INFO,\n",
    "        format='%(levelname)s:%(name)s %(asctime)s %(filename)s:%(lineno)s:%(funcName)s: %(message)s',\n",
    "        #format='%(asctime)s %(name)s %(levelname)s: %(message)s',\n",
    "        #handlers=[ logging.FileHandler(\"/tmp/app.log\"), logging.StreamHandler(sys.stderr)],\n",
    "        handlers=[ ],\n",
    ")\n",
    "logger = logging.getLogger( \"app\" )"
   ]
  },
  {
   "cell_type": "markdown",
   "metadata": {},
   "source": [
    "# collect"
   ]
  },
  {
   "cell_type": "code",
   "execution_count": 32,
   "metadata": {},
   "outputs": [
    {
     "name": "stdout",
     "output_type": "stream",
     "text": [
      "Overwriting ../geoapp/analytics.py\n"
     ]
    }
   ],
   "source": [
    "%%writefile  ../geoapp/analytics.py\n",
    "#!/usr/bin/env python\n",
    "'''\n",
    "    GENERATED FROM geoapp/notebooks/analytics.ipynb\n",
    "'''\n",
    "##---------------------------------------------------------------------\n",
    "import os, logging, sys\n",
    "import colabexts.utils as colabexts_utils\n",
    "\n",
    "loga  = logging.getLogger( \"app.analytics\")\n",
    "\n",
    "file  = \"/opt/data/tseries/data/_ANALYTICS/analytics.log\"\n",
    "if  not os.path.exists(os.path.dirname(file)) :\n",
    "    os.makedirs(os.path.dirname(file))\n",
    "    \n",
    "fmt   = logging.Formatter(fmt='%(message)s,%(asctime)-12s', datefmt='%Y-%m-%dT%H:%M:%S' )\n",
    "fileh = logging.FileHandler(file)\n",
    "fileh.setFormatter(fmt)\n",
    "loga.addHandler(fileh)\n",
    "loga.propagate = False\n",
    "\n",
    "__ADD_STREAM__ = 0\n",
    "if __ADD_STREAM__:\n",
    "    sh = logging.StreamHandler()\n",
    "    sh.setFormatter(fmt) \n",
    "    loga.addHandler(sh)\n",
    "\n",
    "loga.info(f\"#user,uri,method,REMOTE_ADDR,time\")\n",
    "\n",
    "def loganalytics(r):\n",
    "    try:\n",
    "        uri,reqm,remt = r.build_absolute_uri(), r.META.get('REQUEST_METHOD',''), \\\n",
    "                        r.META.get('REMOTE_ADDR','')\n",
    "    except:\n",
    "        uri,reqm,remt =  \"URI\", \"method\", \"remote-ip\"\n",
    "        pass\n",
    "\n",
    "    out = f\"{r.user},{uri},{reqm},{remt}\"\n",
    "    loga.error(f\"{out}\")\n",
    "\n",
    "if __name__ == '__main__' or colabexts_utils.inJupyter():\n",
    "    pass"
   ]
  },
  {
   "cell_type": "markdown",
   "metadata": {},
   "source": []
  },
  {
   "cell_type": "markdown",
   "metadata": {},
   "source": [
    "# Analayze"
   ]
  },
  {
   "cell_type": "code",
   "execution_count": null,
   "metadata": {},
   "outputs": [],
   "source": [
    "import pandas as pd\n",
    "\n",
    "cols =[c.strip() for c in \"#user,uri,method,REMOTE_ADDR,time\"[1:].split(\",\")]\n",
    "df = pd.read_csv(\"/tmp/stream_analytics.log\", comment='#', header=None)\n",
    "df.columns=cols\n",
    "df.time=pd.to_datetime(df.time)\n",
    "#df"
   ]
  },
  {
   "cell_type": "code",
   "execution_count": null,
   "metadata": {},
   "outputs": [],
   "source": []
  },
  {
   "cell_type": "code",
   "execution_count": 28,
   "metadata": {},
   "outputs": [
    {
     "data": {
      "text/plain": [
       "['456', '80']"
      ]
     },
     "execution_count": 28,
     "metadata": {},
     "output_type": "execute_result"
    }
   ],
   "source": [
    "ns"
   ]
  }
 ],
 "metadata": {
  "kernelspec": {
   "display_name": "py311",
   "language": "python",
   "name": "python3"
  },
  "language_info": {
   "codemirror_mode": {
    "name": "ipython",
    "version": 3
   },
   "file_extension": ".py",
   "mimetype": "text/x-python",
   "name": "python",
   "nbconvert_exporter": "python",
   "pygments_lexer": "ipython3",
   "version": "3.11.9"
  }
 },
 "nbformat": 4,
 "nbformat_minor": 2
}
