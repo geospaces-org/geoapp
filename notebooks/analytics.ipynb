{
 "cells": [
  {
   "cell_type": "code",
   "execution_count": 1,
   "metadata": {},
   "outputs": [],
   "source": [
    "import logging, warnings, sys\n",
    "for handler in logging.root.handlers[:]:\n",
    "    logging.root.removeHandler(handler)\n",
    "    \n",
    "logging.basicConfig( level=logging.INFO,\n",
    "        format='%(levelname)s:%(name)s %(asctime)s %(filename)s:%(lineno)s:%(funcName)s: %(message)s',\n",
    "        #format='%(asctime)s %(name)s %(levelname)s: %(message)s',\n",
    "        #handlers=[ logging.FileHandler(\"/tmp/app.log\"), logging.StreamHandler(sys.stderr)],\n",
    "        handlers=[ ],\n",
    ")\n",
    "logger = logging.getLogger( \"app\" )"
   ]
  },
  {
   "cell_type": "markdown",
   "metadata": {},
   "source": [
    "# collect"
   ]
  },
  {
   "cell_type": "code",
   "execution_count": 43,
   "metadata": {},
   "outputs": [
    {
     "name": "stdout",
     "output_type": "stream",
     "text": [
      "Overwriting ../geoapp/analytics.py\n"
     ]
    }
   ],
   "source": [
    "%%writefile  ../geoapp/analytics.py\n",
    "#!/usr/bin/env python\n",
    "'''\n",
    "    GENERATED FROM geoapp/notebooks/analytics.ipynb\n",
    "'''\n",
    "##---------------------------------------------------------------------\n",
    "import logging, sys\n",
    "import colabexts.utils as colabexts_utils\n",
    "\n",
    "loga  = logging.getLogger( \"stream.analytics\")\n",
    "for handler in loga.handlers: \n",
    "    loga.removeHandler(handler)\n",
    "loga.handlers.clear()\n",
    "\n",
    "fmt   = logging.Formatter(fmt='%(message)s,%(asctime)-12s', datefmt='%Y-%m-%dT%H:%M:%S' )\n",
    "fileh = logging.FileHandler(\"/tmp/stream_analytics.log\")\n",
    "fileh.setFormatter(fmt)\n",
    "loga.addHandler(fileh)\n",
    "loga.propagate = False\n",
    "\n",
    "__ADD_STREAM__ = 0\n",
    "if __ADD_STREAM__:\n",
    "    sh = logging.StreamHandler()\n",
    "    sh.setFormatter(fmt) \n",
    "    loga.addHandler(sh)\n",
    "\n",
    "loga.info(f\"#user,uri,method,REMOTE_ADDR,time\")\n",
    "\n",
    "def analytics(r):\n",
    "    global loga\n",
    "    try:\n",
    "        uri,reqm,remt = r.build_absolute_uri(), r.META.get('REQUEST_METHOD',''), \\\n",
    "                        r.META.get('REMOTE_ADDR','')\n",
    "    except:\n",
    "        uri,reqm,remt =  \"URI\", \"method\", \"remote-ip\"\n",
    "        pass\n",
    "\n",
    "    out = f\"{r.user},{uri},{reqm},{remt}\"\n",
    "    loga.info(f\"{out}\")\n",
    "\n",
    "if __name__ == '__main__' or colabexts_utils.inJupyter():\n",
    "    pass"
   ]
  },
  {
   "cell_type": "markdown",
   "metadata": {},
   "source": []
  },
  {
   "cell_type": "markdown",
   "metadata": {},
   "source": [
    "# Analayze"
   ]
  },
  {
   "cell_type": "code",
   "execution_count": 48,
   "metadata": {},
   "outputs": [
    {
     "data": {
      "text/html": [
       "<div>\n",
       "<style scoped>\n",
       "    .dataframe tbody tr th:only-of-type {\n",
       "        vertical-align: middle;\n",
       "    }\n",
       "\n",
       "    .dataframe tbody tr th {\n",
       "        vertical-align: top;\n",
       "    }\n",
       "\n",
       "    .dataframe thead th {\n",
       "        text-align: right;\n",
       "    }\n",
       "</style>\n",
       "<table border=\"1\" class=\"dataframe\">\n",
       "  <thead>\n",
       "    <tr style=\"text-align: right;\">\n",
       "      <th></th>\n",
       "      <th>user</th>\n",
       "      <th>uri</th>\n",
       "      <th>method</th>\n",
       "      <th>REMOTE_ADDR</th>\n",
       "      <th>time</th>\n",
       "    </tr>\n",
       "  </thead>\n",
       "  <tbody>\n",
       "    <tr>\n",
       "      <th>0</th>\n",
       "      <td>sada</td>\n",
       "      <td>http://localhost:7004/</td>\n",
       "      <td>GET</td>\n",
       "      <td>127.0.0.1</td>\n",
       "      <td>2024-07-01 07:02:37</td>\n",
       "    </tr>\n",
       "    <tr>\n",
       "      <th>1</th>\n",
       "      <td>sada</td>\n",
       "      <td>http://localhost:7004/tseries/secured/CREATE_d...</td>\n",
       "      <td>GET</td>\n",
       "      <td>127.0.0.1</td>\n",
       "      <td>2024-07-01 07:02:44</td>\n",
       "    </tr>\n",
       "    <tr>\n",
       "      <th>2</th>\n",
       "      <td>sada</td>\n",
       "      <td>http://localhost:7004/</td>\n",
       "      <td>GET</td>\n",
       "      <td>127.0.0.1</td>\n",
       "      <td>2024-07-01 07:03:56</td>\n",
       "    </tr>\n",
       "    <tr>\n",
       "      <th>3</th>\n",
       "      <td>sada</td>\n",
       "      <td>http://localhost:7004/</td>\n",
       "      <td>GET</td>\n",
       "      <td>127.0.0.1</td>\n",
       "      <td>2024-07-01 07:05:20</td>\n",
       "    </tr>\n",
       "  </tbody>\n",
       "</table>\n",
       "</div>"
      ],
      "text/plain": [
       "   user                                                uri method REMOTE_ADDR  \\\n",
       "0  sada                             http://localhost:7004/    GET   127.0.0.1   \n",
       "1  sada  http://localhost:7004/tseries/secured/CREATE_d...    GET   127.0.0.1   \n",
       "2  sada                             http://localhost:7004/    GET   127.0.0.1   \n",
       "3  sada                             http://localhost:7004/    GET   127.0.0.1   \n",
       "\n",
       "                 time  \n",
       "0 2024-07-01 07:02:37  \n",
       "1 2024-07-01 07:02:44  \n",
       "2 2024-07-01 07:03:56  \n",
       "3 2024-07-01 07:05:20  "
      ]
     },
     "execution_count": 48,
     "metadata": {},
     "output_type": "execute_result"
    }
   ],
   "source": [
    "import pandas as pd\n",
    "\n",
    "cols =[c.strip() for c in \"#user,uri,method,REMOTE_ADDR,time\"[1:].split(\",\")]\n",
    "df = pd.read_csv(\"/tmp/stream_analytics.log\", comment='#', header=None)\n",
    "df.columns=cols\n",
    "df.time=pd.to_datetime(df.time)\n",
    "df"
   ]
  },
  {
   "cell_type": "code",
   "execution_count": 47,
   "metadata": {},
   "outputs": [
    {
     "data": {
      "text/html": [
       "<div>\n",
       "<style scoped>\n",
       "    .dataframe tbody tr th:only-of-type {\n",
       "        vertical-align: middle;\n",
       "    }\n",
       "\n",
       "    .dataframe tbody tr th {\n",
       "        vertical-align: top;\n",
       "    }\n",
       "\n",
       "    .dataframe thead th {\n",
       "        text-align: right;\n",
       "    }\n",
       "</style>\n",
       "<table border=\"1\" class=\"dataframe\">\n",
       "  <thead>\n",
       "    <tr style=\"text-align: right;\">\n",
       "      <th></th>\n",
       "      <th>user</th>\n",
       "      <th>uri</th>\n",
       "      <th>method</th>\n",
       "      <th>REMOTE_ADDR</th>\n",
       "      <th>time</th>\n",
       "    </tr>\n",
       "  </thead>\n",
       "  <tbody>\n",
       "    <tr>\n",
       "      <th>0</th>\n",
       "      <td>sada</td>\n",
       "      <td>http://localhost:7004/</td>\n",
       "      <td>GET</td>\n",
       "      <td>127.0.0.1</td>\n",
       "      <td>2024-07-01 07:02:37</td>\n",
       "    </tr>\n",
       "    <tr>\n",
       "      <th>1</th>\n",
       "      <td>sada</td>\n",
       "      <td>http://localhost:7004/tseries/secured/CREATE_d...</td>\n",
       "      <td>GET</td>\n",
       "      <td>127.0.0.1</td>\n",
       "      <td>2024-07-01 07:02:44</td>\n",
       "    </tr>\n",
       "    <tr>\n",
       "      <th>2</th>\n",
       "      <td>sada</td>\n",
       "      <td>http://localhost:7004/</td>\n",
       "      <td>GET</td>\n",
       "      <td>127.0.0.1</td>\n",
       "      <td>2024-07-01 07:03:56</td>\n",
       "    </tr>\n",
       "    <tr>\n",
       "      <th>3</th>\n",
       "      <td>sada</td>\n",
       "      <td>http://localhost:7004/</td>\n",
       "      <td>GET</td>\n",
       "      <td>127.0.0.1</td>\n",
       "      <td>2024-07-01 07:05:20</td>\n",
       "    </tr>\n",
       "  </tbody>\n",
       "</table>\n",
       "</div>"
      ],
      "text/plain": [
       "   user                                                uri method REMOTE_ADDR  \\\n",
       "0  sada                             http://localhost:7004/    GET   127.0.0.1   \n",
       "1  sada  http://localhost:7004/tseries/secured/CREATE_d...    GET   127.0.0.1   \n",
       "2  sada                             http://localhost:7004/    GET   127.0.0.1   \n",
       "3  sada                             http://localhost:7004/    GET   127.0.0.1   \n",
       "\n",
       "                 time  \n",
       "0 2024-07-01 07:02:37  \n",
       "1 2024-07-01 07:02:44  \n",
       "2 2024-07-01 07:03:56  \n",
       "3 2024-07-01 07:05:20  "
      ]
     },
     "execution_count": 47,
     "metadata": {},
     "output_type": "execute_result"
    }
   ],
   "source": []
  }
 ],
 "metadata": {
  "kernelspec": {
   "display_name": "py311",
   "language": "python",
   "name": "python3"
  },
  "language_info": {
   "codemirror_mode": {
    "name": "ipython",
    "version": 3
   },
   "file_extension": ".py",
   "mimetype": "text/x-python",
   "name": "python",
   "nbconvert_exporter": "python",
   "pygments_lexer": "ipython3",
   "version": "3.11.9"
  }
 },
 "nbformat": 4,
 "nbformat_minor": 2
}
