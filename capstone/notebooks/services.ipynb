{
 "cells": [
  {
   "cell_type": "code",
   "execution_count": 7,
   "id": "4f56744f",
   "metadata": {},
   "outputs": [
    {
     "name": "stdout",
     "output_type": "stream",
     "text": [
      "Overwriting ../services.py\n"
     ]
    }
   ],
   "source": [
    "%%writefile ../services.py\n",
    "#!/usr/local/bin/python \n",
    "\n",
    "#*** DO NOT EDIT - GENERATED FROM services.ipynb ****\n",
    "\n",
    "import os\n",
    "import pandas as pd\n",
    "from  mangorest.mango import webapi\n",
    "\n",
    "BASE = \"/opt/data/capstone/capstone\"\n",
    "\n",
    "#--------------------------------------------------------------------------------------------------------    \n",
    "def getFile(path, ret=\"\"):\n",
    "\n",
    "    print(f\"==> getFile: {path}\")\n",
    "    if (os.path.exists(path)):\n",
    "        with open(path, \"r\") as f:\n",
    "            ret = f.read()\n",
    "\n",
    "    return ret\n",
    "#--------------------------------------------------------------------------------------------------------    \n",
    "@webapi(\"/capstone/test\")\n",
    "def test( request,  **kwargs):\n",
    "    return \"APP 1 TEST version 1.0\"\n",
    "#--------------------------------------------------------------------------------------------------------    \n",
    "DEFAULT_MENU = '''\n",
    "# Home              ; fa fa-home          ;; Home ;\n",
    "\n",
    "# Find FA ICON      ; fas fa-fan          ;; find-fa-icon       ;; Match find a FA Icon\n",
    "# Face Recognition  ; far fa-meh          ;; facial_recognition ;; Face Recognition system\n",
    "# Return to Kronos  ; fas fa-shuttle-van  ;; ReturntoKronos     ;; Return to Kronos\n",
    "---\n",
    "# About             ; fas fa-book-reader  ;;                    ;;\n",
    "# Donate            ; fas fa-donate       ;/payment/stripepay/donate/ ; \n",
    "'''\n",
    "@webapi(\"/capstone/capmenu\")\n",
    "def capmenu(request, **kwargs):\n",
    "    ret = getFile(f'{BASE}/capmenu.md', DEFAULT_MENU)\n",
    "    return ret\n",
    "\n",
    "# ~~~~~~~~~~~~~~~~~~~~~~~~~~~~~~~~~~~~~~~~~~~~~~~~~~~~~~~~~~~~~~~~~~~~~~~~~~~~~~~~~~~~~~~~~~~~\n",
    "@webapi(\"/capstone/getcapstone\")\n",
    "def getcapstone(request, q, **kwargs):\n",
    "    bq = f'{BASE}/{q}'\n",
    "\n",
    "    if (not os.path.exists(bq)):\n",
    "        ret = f\"ERROR: '{bq}' path does not exist!!\"\n",
    "        print(ret)\n",
    "        return HttpResponse( ret)\n",
    "\n",
    "    descr = \"<html>Not available here - run scripts!! </html>\"\n",
    "    overv = getFile(f'{bq}/README.md',    descr)\n",
    "    datah = getFile(f'{bq}/data.md' ,     descr)\n",
    "    soluh = getFile(f'{bq}/solutions.md', descr)\n",
    "    discs = getFile(f'{bq}/discuss.md'  , descr)\n",
    "\n",
    "    ret = {\n",
    "        \"img\"         : \"\",\n",
    "        \"overview\"    : overv,\n",
    "        \"data\"        : datah,\n",
    "        \"solutions\"   : soluh,\n",
    "        \"discussions\" : discs,\n",
    "    }\n",
    "    return ret\n"
   ]
  }
 ],
 "metadata": {
  "hide_input": false,
  "kernelspec": {
   "display_name": "Python 3 (ipykernel)",
   "language": "python",
   "name": "python3"
  },
  "language_info": {
   "codemirror_mode": {
    "name": "ipython",
    "version": 3
   },
   "file_extension": ".py",
   "mimetype": "text/x-python",
   "name": "python",
   "nbconvert_exporter": "python",
   "pygments_lexer": "ipython3",
   "version": "3.8.3"
  },
  "toc": {
   "base_numbering": 1,
   "nav_menu": {},
   "number_sections": true,
   "sideBar": true,
   "skip_h1_title": false,
   "title_cell": "Table of Contents",
   "title_sidebar": "Contents",
   "toc_cell": false,
   "toc_position": {},
   "toc_section_display": true,
   "toc_window_display": false
  },
  "varInspector": {
   "cols": {
    "lenName": 16,
    "lenType": 16,
    "lenVar": 40
   },
   "kernels_config": {
    "python": {
     "delete_cmd_postfix": "",
     "delete_cmd_prefix": "del ",
     "library": "var_list.py",
     "varRefreshCmd": "print(var_dic_list())"
    },
    "r": {
     "delete_cmd_postfix": ") ",
     "delete_cmd_prefix": "rm(",
     "library": "var_list.r",
     "varRefreshCmd": "cat(var_dic_list()) "
    }
   },
   "types_to_exclude": [
    "module",
    "function",
    "builtin_function_or_method",
    "instance",
    "_Feature"
   ],
   "window_display": false
  },
  "vscode": {
   "interpreter": {
    "hash": "949777d72b0d2535278d3dc13498b2535136f6dfe0678499012e853ee9abcab1"
   }
  }
 },
 "nbformat": 4,
 "nbformat_minor": 5
}
