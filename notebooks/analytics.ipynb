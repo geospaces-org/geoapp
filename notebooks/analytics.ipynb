{
 "cells": [
  {
   "cell_type": "code",
   "execution_count": null,
   "metadata": {},
   "outputs": [],
   "source": [
    "import logging\n",
    "loga = logging.getLogger( \"app.analytics\")\n",
    "\n",
    "fh = logging.FileHandler(\"/tmp/geoapp.log\")\n",
    "sh = logging.StreamHandler()\n",
    "#vars(sh)\n",
    "fmt = logging.Formatter(fmt='%(asctime)-12s,%(message)s', datefmt='%Y-%m-%dT%H:%M:%S' )\n",
    "sh.setFormatter(fmt) \n",
    "fh.setFormatter(fmt)\n",
    "loga.addHandler(sh )\n",
    "loga.addHandler(fh )\n",
    "\n",
    "url = 't' #r.getRequestURI()\n",
    "usr = \"user\" #r.user.username if r.user.is_authenticated() else ''\n",
    "loga.error(f\"{url},{usr},\")\n"
   ]
  },
  {
   "cell_type": "code",
   "execution_count": null,
   "metadata": {},
   "outputs": [],
   "source": [
    "nalytics 2024-06-30 11:35:30,129 settings.py:29:analytics: =****======> {'scope': {'type': 'http', 'http_version': '1.1', 'method': 'GET', 'path': '/', 'raw_path': b'/', 'root_path': '', 'scheme': 'http', 'query_string': b'', 'headers': [(b'host', b'localhost:7003'), (b'connection', b'keep-alive'), (b'pragma', b'no-cache'), (b'cache-control', b'no-cache'), (b'sec-ch-ua', b'\"Not/A)Brand\";v=\"8\", \"Chromium\";v=\"126\", \"Google Chrome\";v=\"126\"'), (b'sec-ch-ua-mobile', b'?0'), (b'sec-ch-ua-platform', b'\"macOS\"'), (b'upgrade-insecure-requests', b'1'), (b'dnt', b'1'), (b'user-agent', b'Mozilla/5.0 (Macintosh; Intel Mac OS X 10_15_7) AppleWebKit/537.36 (KHTML, like Gecko) Chrome/126.0.0.0 Safari/537.36'), (b'accept', b'text/html,application/xhtml+xml,application/xml;q=0.9,image/avif,image/webp,image/apng,*/*;q=0.8,application/signed-exchange;v=b3;q=0.7'), (b'sec-fetch-site', b'same-origin'), (b'sec-fetch-mode', b'navigate'), (b'sec-fetch-user', b'?1'), (b'sec-fetch-dest', b'document'), (b'referer', b'http://localhost:7003/'), (b'accept-encoding', b'gzip, deflate, br, zstd'), (b'accept-language', b'en-US,en;q=0.9'), (b'cookie', b'_ga=GA1.1.342653461.1719175298; _gid=GA1.1.964059518.1719695587; messages=.eJyLjlaKj88qzs-Lz00tLk5MT1XSMdAxMtVRCi5NTgaKpJXm5FQqFGem56WmKGTmKSQWKxQnpiTqKcXq4NIZmV-qkJFYlgrTlV9agk85QYtiAfKlN3k:1sNgZg:cgyY-ZJuLxTJ2Cn3iImX_wgfeRn0zzVlWWre7AWg81A; csrftoken=Ck9jDmY23mUKNtQNNtvQCqq2KbefW8GTjwGoGprZaZZi5FhARvyxY29cfprwISzt; sessionid=imn5v2i7y1whjqf01lqvdas657w54o0u')], 'client': ['127.0.0.1', 51061], 'server': ['127.0.0.1', 7003], 'asgi': {'version': '3.0'}}, '_post_parse_error': False, '_read_started': False, 'resolver_match': ResolverMatch(func=geoapp.views.index, args=(), kwargs={}, url_name='index', app_names=[], namespaces=[], route=''), 'script_name': '', 'path_info': '/', 'path': '/', 'method': 'GET', 'META': {'REQUEST_METHOD': 'GET', 'QUERY_STRING': '', 'SCRIPT_NAME': '', 'PATH_INFO': '/', 'wsgi.multithread': True, 'wsgi.multiprocess': True, 'REMOTE_ADDR': '127.0.0.1', 'REMOTE_HOST': '127.0.0.1', 'REMOTE_PORT': 51061, 'SERVER_NAME': '127.0.0.1', 'SERVER_PORT': '7003', 'HTTP_HOST': 'localhost:7003', 'HTTP_CONNECTION': 'keep-alive', 'HTTP_PRAGMA': 'no-cache', 'HTTP_CACHE_CONTROL': 'no-cache', 'HTTP_SEC_CH_UA': '\"Not/A)Brand\";v=\"8\", \"Chromium\";v=\"126\", \"Google Chrome\";v=\"126\"', 'HTTP_SEC_CH_UA_MOBILE': '?0', 'HTTP_SEC_CH_UA_PLATFORM': '\"macOS\"', 'HTTP_UPGRADE_INSECURE_REQUESTS': '1', 'HTTP_DNT': '1', 'HTTP_USER_AGENT': 'Mozilla/5.0 (Macintosh; Intel Mac OS X 10_15_7) AppleWebKit/537.36 (KHTML, like Gecko) Chrome/126.0.0.0 Safari/537.36', 'HTTP_ACCEPT': 'text/html,application/xhtml+xml,application/xml;q=0.9,image/avif,image/webp,image/apng,*/*;q=0.8,application/signed-exchange;v=b3;q=0.7', 'HTTP_SEC_FETCH_SITE': 'same-origin', 'HTTP_SEC_FETCH_MODE': 'navigate', 'HTTP_SEC_FETCH_USER': '?1', 'HTTP_SEC_FETCH_DEST': 'document', 'HTTP_REFERER': 'http://localhost:7003/', 'HTTP_ACCEPT_ENCODING': 'gzip, deflate, br, zstd', 'HTTP_ACCEPT_LANGUAGE': 'en-US,en;q=0.9', 'HTTP_COOKIE': '_ga=GA1.1.342653461.1719175298; _gid=GA1.1.964059518.1719695587; messages=.eJyLjlaKj88qzs-Lz00tLk5MT1XSMdAxMtVRCi5NTgaKpJXm5FQqFGem56WmKGTmKSQWKxQnpiTqKcXq4NIZmV-qkJFYlgrTlV9agk85QYtiAfKlN3k:1sNgZg:cgyY-ZJuLxTJ2Cn3iImX_wgfeRn0zzVlWWre7AWg81A; csrftoken=Ck9jDmY23mUKNtQNNtvQCqq2KbefW8GTjwGoGprZaZZi5FhARvyxY29cfprwISzt; sessionid=imn5v2i7y1whjqf01lqvdas657w54o0u', 'CSRF_COOKIE': 'Ck9jDmY23mUKNtQNNtvQCqq2KbefW8GTjwGoGprZaZZi5FhARvyxY29cfprwISzt'}, 'content_type': '', 'content_params': {}, '_stream': <tempfile.SpooledTemporaryFile object at 0x1498a3730>, 'COOKIES': {'_ga': 'GA1.1.342653461.1719175298', '_gid': 'GA1.1.964059518.1719695587', 'messages': '.eJyLjlaKj88qzs-Lz00tLk5MT1XSMdAxMtVRCi5NTgaKpJXm5FQqFGem56WmKGTmKSQWKxQnpiTqKcXq4NIZmV-qkJFYlgrTlV9agk85QYtiAfKlN3k:1sNgZg:cgyY-ZJuLxTJ2Cn3iImX_wgfeRn0zzVlWWre7AWg81A', 'csrftoken': 'Ck9jDmY23mUKNtQNNtvQCqq2KbefW8GTjwGoGprZaZZi5FhARvyxY29cfprwISzt', 'sessionid': 'imn5v2i7y1whjqf01lqvdas657w54o0u'}, 'session': <django.contrib.sessions.backends.db.SessionStore object at 0x147a6be50>, 'user': <SimpleLazyObject: <function AuthenticationMiddleware.process_request.<locals>.<lambda> at 0x149a7a8e0>>, '_messages': <FallbackStorage: request=<ASGIRequest: GET '/'>>, 'csrf_processing_done': True} == GET,127.0.0.1,127.0.0.1,127.0.0.1,\n"
   ]
  },
  {
   "cell_type": "code",
   "execution_count": null,
   "metadata": {},
   "outputs": [],
   "source": []
  }
 ],
 "metadata": {
  "kernelspec": {
   "display_name": "py311",
   "language": "python",
   "name": "python3"
  },
  "language_info": {
   "codemirror_mode": {
    "name": "ipython",
    "version": 3
   },
   "file_extension": ".py",
   "mimetype": "text/x-python",
   "name": "python",
   "nbconvert_exporter": "python",
   "pygments_lexer": "ipython3",
   "version": "3.11.9"
  }
 },
 "nbformat": 4,
 "nbformat_minor": 2
}
