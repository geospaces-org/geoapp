{
 "cells": [
  {
   "cell_type": "code",
   "execution_count": 12,
   "id": "4f56744f",
   "metadata": {},
   "outputs": [
    {
     "name": "stdout",
     "output_type": "stream",
     "text": [
      "Overwriting ../services.py\n"
     ]
    }
   ],
   "source": [
    "%%writefile ../services.py\n",
    "#!/usr/local/bin/python \n",
    "\n",
    "#*** DO NOT EDIT - GENERATED FROM services.ipynb ****\n",
    "\n",
    "import os, json\n",
    "from  mangorest.mango import webapi\n",
    "from geoapp.utils import read_csv, readfile\n",
    "\n",
    "BASE = \"/opt/data/data/stocks/data\"\n",
    "\n",
    "#--------------------------------------------------------------------------------------------------------    \n",
    "DEFAULT_FILE = f'{BASE}/stocks.csv'\n",
    "@webapi(\"/stocks/getsymbols\")\n",
    "def getsymbols(request, user=\"\", **kwargs):\n",
    "    file = f'{BASE}/{user}/stocks.csv'\n",
    "    if (not user or not os.path.exists(file)):\n",
    "        file = DEFAULT_FILE\n",
    "\n",
    "    df, ret = read_csv(file)\n",
    "    return ret \n",
    "#--------------------------------------------------------------------------------------------------------    \n",
    "@webapi(\"/stocks/getDetails\")\n",
    "def getdetails(request, q=\"dow_jones\", duration=\"all\", user=\"\", **kwargs):\n",
    "    symbol = q\n",
    "    csv     = f'{BASE}/{symbol}/daily.csv'\n",
    "    csv_aug = f'{BASE}/{symbol}/daily_aug.csv'\n",
    "\n",
    "    if os.path.exists(csv_aug):\n",
    "        csv = csv_aug\n",
    "    elif ( not os.path.exists(csv  )):\n",
    "        csv   = f'{BASE}/dow_jones/daily.csv'\n",
    "\n",
    "    news    = f'{BASE}/{symbol}/news.html'\n",
    "    stats1  = f'{BASE}/{symbol}/summary.json'\n",
    "    stats2  = f'{BASE}/{symbol}/fundamentals.json'\n",
    "\n",
    "    if (not os.path.exists(news  )): news  = f'{BASE}/dow_jones/news.html'\n",
    "    if (not os.path.exists(stats1)): stats1= f'{BASE}/dow_jones/summary.json'\n",
    "\n",
    "    s1 = json.loads(readfile(stats1, \"{}\"))\n",
    "    s2 = json.loads(readfile(stats2, \"{}\"))\n",
    "    s2.update(s1)\n",
    "\n",
    "    print(f\"Symbol Details :{csv} - {news} {stats1}\")\n",
    "\n",
    "    df, ret = read_csv(csv)\n",
    "    ret['news'] = readfile(news, \"\")\n",
    "    ret['stats']= json.dumps(s2)\n",
    "\n",
    "    return ret\n"
   ]
  }
 ],
 "metadata": {
  "hide_input": false,
  "kernelspec": {
   "display_name": "Python 3 (ipykernel)",
   "language": "python",
   "name": "python3"
  },
  "language_info": {
   "codemirror_mode": {
    "name": "ipython",
    "version": 3
   },
   "file_extension": ".py",
   "mimetype": "text/x-python",
   "name": "python",
   "nbconvert_exporter": "python",
   "pygments_lexer": "ipython3",
   "version": "3.8.3"
  },
  "toc": {
   "base_numbering": 1,
   "nav_menu": {},
   "number_sections": true,
   "sideBar": true,
   "skip_h1_title": false,
   "title_cell": "Table of Contents",
   "title_sidebar": "Contents",
   "toc_cell": false,
   "toc_position": {},
   "toc_section_display": true,
   "toc_window_display": false
  },
  "varInspector": {
   "cols": {
    "lenName": 16,
    "lenType": 16,
    "lenVar": 40
   },
   "kernels_config": {
    "python": {
     "delete_cmd_postfix": "",
     "delete_cmd_prefix": "del ",
     "library": "var_list.py",
     "varRefreshCmd": "print(var_dic_list())"
    },
    "r": {
     "delete_cmd_postfix": ") ",
     "delete_cmd_prefix": "rm(",
     "library": "var_list.r",
     "varRefreshCmd": "cat(var_dic_list()) "
    }
   },
   "types_to_exclude": [
    "module",
    "function",
    "builtin_function_or_method",
    "instance",
    "_Feature"
   ],
   "window_display": false
  },
  "vscode": {
   "interpreter": {
    "hash": "949777d72b0d2535278d3dc13498b2535136f6dfe0678499012e853ee9abcab1"
   }
  }
 },
 "nbformat": 4,
 "nbformat_minor": 5
}
