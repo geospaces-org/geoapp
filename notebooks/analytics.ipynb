{
 "cells": [
  {
   "cell_type": "code",
   "execution_count": 1,
   "metadata": {},
   "outputs": [
    {
     "name": "stderr",
     "output_type": "stream",
     "text": [
      "2024-06-30T05:57:51,t,user,\n"
     ]
    }
   ],
   "source": [
    "import logging\n",
    "loga = logging.getLogger( \"app.analytics\")\n",
    "\n",
    "fh = logging.FileHandler(\"/tmp/geoapp.log\")\n",
    "sh = logging.StreamHandler()\n",
    "#vars(sh)\n",
    "fmt = logging.Formatter(fmt='%(asctime)-12s,%(message)s', datefmt='%Y-%m-%dT%H:%M:%S' )\n",
    "sh.setFormatter(fmt) \n",
    "fh.setFormatter(fmt)\n",
    "loga.addHandler(sh )\n",
    "loga.addHandler(fh )\n",
    "\n",
    "url = 't' #r.getRequestURI()\n",
    "usr = \"user\" #r.user.username if r.user.is_authenticated() else ''\n",
    "loga.error(f\"{url},{usr},\")\n"
   ]
  },
  {
   "cell_type": "code",
   "execution_count": null,
   "metadata": {},
   "outputs": [],
   "source": []
  },
  {
   "cell_type": "code",
   "execution_count": null,
   "metadata": {},
   "outputs": [],
   "source": []
  }
 ],
 "metadata": {
  "kernelspec": {
   "display_name": "py311",
   "language": "python",
   "name": "python3"
  },
  "language_info": {
   "codemirror_mode": {
    "name": "ipython",
    "version": 3
   },
   "file_extension": ".py",
   "mimetype": "text/x-python",
   "name": "python",
   "nbconvert_exporter": "python",
   "pygments_lexer": "ipython3",
   "version": "3.11.9"
  }
 },
 "nbformat": 4,
 "nbformat_minor": 2
}
